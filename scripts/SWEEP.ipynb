{
 "cells": [
  {
   "cell_type": "code",
   "execution_count": 8,
   "id": "44b8efd7",
   "metadata": {},
   "outputs": [
    {
     "name": "stderr",
     "output_type": "stream",
     "text": [
      "\u001b[34m\u001b[1mwandb\u001b[0m: \u001b[33mWARNING\u001b[0m If you're specifying your api key in code, ensure this code is not shared publicly.\n",
      "\u001b[34m\u001b[1mwandb\u001b[0m: \u001b[33mWARNING\u001b[0m Consider setting the WANDB_API_KEY environment variable, or running `wandb login` from the command line.\n",
      "\u001b[34m\u001b[1mwandb\u001b[0m: Appending key for api.wandb.ai to your netrc file: /root/.netrc\n",
      "\u001b[34m\u001b[1mwandb\u001b[0m: \u001b[33mWARNING\u001b[0m `wandb.require('core')` is a no-op as it is now the default behavior.\n"
     ]
    }
   ],
   "source": [
    "import os\n",
    "import wandb\n",
    "from dotenv import load_dotenv\n",
    "\n",
    "load_dotenv()\n",
    "# Read the WandB API key from the environment variable\n",
    "api_key = os.getenv(\"WANDB_TOKEN\")\n",
    "if api_key:\n",
    "    wandb.login(key=api_key)\n",
    "else:\n",
    "    print(\"WANDB_API_KEY not found in environment. Please set it to your WandB API key.\")\n",
    "wandb.require(\"core\")"
   ]
  },
  {
   "cell_type": "code",
   "execution_count": 9,
   "id": "f204ae51",
   "metadata": {},
   "outputs": [],
   "source": [
    "# Add this to a new cell before running the agent\n",
    "import os\n",
    "os.environ[\"WANDB_DISABLE_CODE\"] = \"true\"\n",
    "os.environ[\"WANDB_DISABLE_GIT\"] = \"true\" \n",
    "os.environ[\"WANDB_LOG_INTERNAL\"] = \"false\""
   ]
  },
  {
   "cell_type": "code",
   "execution_count": 10,
   "id": "9f876dd0",
   "metadata": {},
   "outputs": [],
   "source": [
    "import yaml\n",
    "\n",
    "def load_config(path):\n",
    "    with open(path, 'r') as f:\n",
    "        config = yaml.load(f, Loader=yaml.FullLoader)\n",
    "    return config"
   ]
  },
  {
   "cell_type": "code",
   "execution_count": 11,
   "id": "8206dc7c",
   "metadata": {},
   "outputs": [],
   "source": [
    "sweep_configuration = {\n",
    "    'method': 'grid',\n",
    "    'name': 'model_sweep',\n",
    "    'metric': {'goal': 'maximize', 'name': 'metrics/mAP50(B)'},\n",
    "    'parameters': \n",
    "    {\n",
    "        'dataset': {'value': \"../data/data-ppe_v4.yaml\"},\n",
    "        'model': {'values': [\"yolo11n.pt\", \"yolov10n.pt\"]},\n",
    "        'batch_size': {'values': [2, 4, 8]},\n",
    "        'epochs': {'values': [1, 20, 30]},\n",
    "        'imgsz': {'value': 640}, \n",
    "        'lr': {'value': 1e-4},\n",
    "     }\n",
    "}"
   ]
  },
  {
   "cell_type": "code",
   "execution_count": 12,
   "id": "a5c0bed7",
   "metadata": {},
   "outputs": [],
   "source": [
    "# import torch\n",
    "# import ultralytics.nn.tasks as tasks\n",
    "\n",
    "# # Allowlist DetectionModel for safe loading\n",
    "# torch.serialization.add_safe_globals([tasks.DetectionModel])\n",
    "\n",
    "# from ultralytics import YOLO\n",
    "\n",
    "# # Load a pre-trained YOLOv10n model\n",
    "# model = YOLO(\"../weights/best_yolo8n.pt\")"
   ]
  },
  {
   "cell_type": "code",
   "execution_count": 13,
   "id": "18a09230",
   "metadata": {},
   "outputs": [
    {
     "name": "stdout",
     "output_type": "stream",
     "text": [
      "Create sweep with ID: c9qcxa1w\n",
      "Sweep URL: https://wandb.ai/nambeo2904-ppe/ppe-yolo/sweeps/c9qcxa1w\n",
      "Sweep ID: c9qcxa1w\n"
     ]
    }
   ],
   "source": [
    "import wandb\n",
    "config_path = \"../yaml/sweep_model.yaml\"\n",
    "\n",
    "PROJECT = 'ppe-yolo'\n",
    "\n",
    "sweep_id = wandb.sweep(sweep=sweep_configuration, project=PROJECT)\n",
    "print(f\"Sweep ID: {sweep_id}\")"
   ]
  },
  {
   "cell_type": "code",
   "execution_count": 14,
   "id": "a49d3a6d",
   "metadata": {},
   "outputs": [
    {
     "name": "stdout",
     "output_type": "stream",
     "text": [
      "Sweep ID: c9qcxa1w\n"
     ]
    },
    {
     "name": "stderr",
     "output_type": "stream",
     "text": [
      "\u001b[34m\u001b[1mwandb\u001b[0m: Agent Starting Run: lunbnpdf with config:\n",
      "\u001b[34m\u001b[1mwandb\u001b[0m: \tbatch_size: 2\n",
      "\u001b[34m\u001b[1mwandb\u001b[0m: \tdataset: ../data/data-ppe_v4.yaml\n",
      "\u001b[34m\u001b[1mwandb\u001b[0m: \tepochs: 1\n",
      "\u001b[34m\u001b[1mwandb\u001b[0m: \timgsz: 640\n",
      "\u001b[34m\u001b[1mwandb\u001b[0m: \tlr: 0.0001\n",
      "\u001b[34m\u001b[1mwandb\u001b[0m: \tmodel: yolo11n.pt\n"
     ]
    },
    {
     "name": "stdout",
     "output_type": "stream",
     "text": [
      "Initial config from sweep: None\n"
     ]
    },
    {
     "data": {
      "text/html": [
       "Ignoring project 'ppe-yolo' when running a sweep."
      ],
      "text/plain": [
       "<IPython.core.display.HTML object>"
      ]
     },
     "metadata": {},
     "output_type": "display_data"
    },
    {
     "data": {
      "text/html": [
       "Tracking run with wandb version 0.21.1"
      ],
      "text/plain": [
       "<IPython.core.display.HTML object>"
      ]
     },
     "metadata": {},
     "output_type": "display_data"
    },
    {
     "data": {
      "text/html": [
       "Run data is saved locally in <code>/mnt/c/Users/beeha/VSCode/College/CS406/scripts/wandb/run-20250821_223330-lunbnpdf</code>"
      ],
      "text/plain": [
       "<IPython.core.display.HTML object>"
      ]
     },
     "metadata": {},
     "output_type": "display_data"
    },
    {
     "data": {
      "text/html": [
       "Syncing run <strong><a href='https://wandb.ai/nambeo2904-ppe/ppe-yolo/runs/lunbnpdf' target=\"_blank\">fiery-sweep-1</a></strong> to <a href='https://wandb.ai/nambeo2904-ppe/ppe-yolo' target=\"_blank\">Weights & Biases</a> (<a href='https://wandb.me/developer-guide' target=\"_blank\">docs</a>)<br>Sweep page: <a href='https://wandb.ai/nambeo2904-ppe/ppe-yolo/sweeps/c9qcxa1w' target=\"_blank\">https://wandb.ai/nambeo2904-ppe/ppe-yolo/sweeps/c9qcxa1w</a>"
      ],
      "text/plain": [
       "<IPython.core.display.HTML object>"
      ]
     },
     "metadata": {},
     "output_type": "display_data"
    },
    {
     "data": {
      "text/html": [
       " View project at <a href='https://wandb.ai/nambeo2904-ppe/ppe-yolo' target=\"_blank\">https://wandb.ai/nambeo2904-ppe/ppe-yolo</a>"
      ],
      "text/plain": [
       "<IPython.core.display.HTML object>"
      ]
     },
     "metadata": {},
     "output_type": "display_data"
    },
    {
     "data": {
      "text/html": [
       " View sweep at <a href='https://wandb.ai/nambeo2904-ppe/ppe-yolo/sweeps/c9qcxa1w' target=\"_blank\">https://wandb.ai/nambeo2904-ppe/ppe-yolo/sweeps/c9qcxa1w</a>"
      ],
      "text/plain": [
       "<IPython.core.display.HTML object>"
      ]
     },
     "metadata": {},
     "output_type": "display_data"
    },
    {
     "data": {
      "text/html": [
       " View run at <a href='https://wandb.ai/nambeo2904-ppe/ppe-yolo/runs/lunbnpdf' target=\"_blank\">https://wandb.ai/nambeo2904-ppe/ppe-yolo/runs/lunbnpdf</a>"
      ],
      "text/plain": [
       "<IPython.core.display.HTML object>"
      ]
     },
     "metadata": {},
     "output_type": "display_data"
    },
    {
     "name": "stdout",
     "output_type": "stream",
     "text": [
      "HERE!!! {'batch_size': 2, 'dataset': '../data/data-ppe_v4.yaml', 'epochs': 1, 'imgsz': 640, 'lr': 0.0001, 'model': 'yolo11n.pt'}\n",
      "Training with:\n",
      "  Model: yolo11n.pt\n",
      "  Data: ../data/data-ppe_v4.yaml\n",
      "  Epochs: 1\n",
      "  Batch size: 2\n",
      "  Image size: 640\n",
      "New https://pypi.org/project/ultralytics/8.3.183 available 😃 Update with 'pip install -U ultralytics'\n",
      "\u001b[34m\u001b[1mengine/trainer: \u001b[0magnostic_nms=False, amp=True, augment=False, auto_augment=randaugment, batch=2, bgr=0.0, box=7.5, cache=False, cfg=None, classes=None, close_mosaic=10, cls=0.5, conf=None, copy_paste=0.0, copy_paste_mode=flip, cos_lr=False, cutmix=0.0, data=../data/data-ppe_v4.yaml, degrees=0.0, deterministic=True, device=None, dfl=1.5, dnn=False, dropout=0.0, dynamic=False, embed=None, epochs=1, erasing=0.4, exist_ok=False, fliplr=0.5, flipud=0.0, format=torchscript, fraction=1.0, freeze=None, half=False, hsv_h=0.015, hsv_s=0.7, hsv_v=0.4, imgsz=640, int8=False, iou=0.7, keras=False, kobj=1.0, line_width=None, lr0=0.01, lrf=0.01, mask_ratio=4, max_det=300, mixup=0.0, mode=train, model=yolo11n.pt, momentum=0.937, mosaic=1.0, multi_scale=False, name=training8, nbs=64, nms=False, opset=None, optimize=False, optimizer=auto, overlap_mask=True, patience=100, perspective=0.0, plots=True, pose=12.0, pretrained=True, profile=False, project=ppe-yolo, rect=False, resume=False, retina_masks=False, save=True, save_conf=False, save_crop=False, save_dir=ppe-yolo/training8, save_frames=False, save_json=False, save_period=-1, save_txt=False, scale=0.5, seed=0, shear=0.0, show=False, show_boxes=True, show_conf=True, show_labels=True, simplify=True, single_cls=False, source=None, split=val, stream_buffer=False, task=detect, time=None, tracker=botsort.yaml, translate=0.1, val=True, verbose=True, vid_stride=1, visualize=False, warmup_bias_lr=0.1, warmup_epochs=3.0, warmup_momentum=0.8, weight_decay=0.0005, workers=8, workspace=None\n",
      "Overriding model.yaml nc=80 with nc=4\n",
      "\n",
      "                   from  n    params  module                                       arguments                     \n",
      "  0                  -1  1       464  ultralytics.nn.modules.conv.Conv             [3, 16, 3, 2]                 \n",
      "  1                  -1  1      4672  ultralytics.nn.modules.conv.Conv             [16, 32, 3, 2]                \n",
      "  2                  -1  1      6640  ultralytics.nn.modules.block.C3k2            [32, 64, 1, False, 0.25]      \n",
      "  3                  -1  1     36992  ultralytics.nn.modules.conv.Conv             [64, 64, 3, 2]                \n",
      "  4                  -1  1     26080  ultralytics.nn.modules.block.C3k2            [64, 128, 1, False, 0.25]     \n",
      "  5                  -1  1    147712  ultralytics.nn.modules.conv.Conv             [128, 128, 3, 2]              \n",
      "  6                  -1  1     87040  ultralytics.nn.modules.block.C3k2            [128, 128, 1, True]           \n",
      "  7                  -1  1    295424  ultralytics.nn.modules.conv.Conv             [128, 256, 3, 2]              \n",
      "  8                  -1  1    346112  ultralytics.nn.modules.block.C3k2            [256, 256, 1, True]           \n",
      "  9                  -1  1    164608  ultralytics.nn.modules.block.SPPF            [256, 256, 5]                 \n",
      " 10                  -1  1    249728  ultralytics.nn.modules.block.C2PSA           [256, 256, 1]                 \n",
      " 11                  -1  1         0  torch.nn.modules.upsampling.Upsample         [None, 2, 'nearest']          \n",
      " 12             [-1, 6]  1         0  ultralytics.nn.modules.conv.Concat           [1]                           \n",
      " 13                  -1  1    111296  ultralytics.nn.modules.block.C3k2            [384, 128, 1, False]          \n",
      " 14                  -1  1         0  torch.nn.modules.upsampling.Upsample         [None, 2, 'nearest']          \n",
      " 15             [-1, 4]  1         0  ultralytics.nn.modules.conv.Concat           [1]                           \n",
      " 16                  -1  1     32096  ultralytics.nn.modules.block.C3k2            [256, 64, 1, False]           \n",
      " 17                  -1  1     36992  ultralytics.nn.modules.conv.Conv             [64, 64, 3, 2]                \n",
      " 18            [-1, 13]  1         0  ultralytics.nn.modules.conv.Concat           [1]                           \n",
      " 19                  -1  1     86720  ultralytics.nn.modules.block.C3k2            [192, 128, 1, False]          \n",
      " 20                  -1  1    147712  ultralytics.nn.modules.conv.Conv             [128, 128, 3, 2]              \n",
      " 21            [-1, 10]  1         0  ultralytics.nn.modules.conv.Concat           [1]                           \n",
      " 22                  -1  1    378880  ultralytics.nn.modules.block.C3k2            [384, 256, 1, True]           \n",
      " 23        [16, 19, 22]  1    431452  ultralytics.nn.modules.head.Detect           [4, [64, 128, 256]]           \n",
      "YOLO11n summary: 181 layers, 2,590,620 parameters, 2,590,604 gradients, 6.4 GFLOPs\n",
      "\n",
      "Transferred 448/499 items from pretrained weights\n",
      "Freezing layer 'model.23.dfl.conv.weight'\n",
      "\u001b[34m\u001b[1mAMP: \u001b[0mrunning Automatic Mixed Precision (AMP) checks...\n",
      "\u001b[34m\u001b[1mAMP: \u001b[0mchecks passed ✅\n",
      "\u001b[34m\u001b[1mtrain: \u001b[0mFast image access ✅ (ping: 2.1±0.5 ms, read: 14.5±4.5 MB/s, size: 51.7 KB)\n"
     ]
    },
    {
     "name": "stderr",
     "output_type": "stream",
     "text": [
      "\u001b[34m\u001b[1mtrain: \u001b[0mScanning /mnt/c/Users/beeha/VSCode/College/CS406/data/dataset_v4/split_v4/train/labels.cache... 1878 images, 0 backgrounds, 0 corrupt: 100%|██████████| 1878/1878 [00:00<?, ?it/s]\n"
     ]
    },
    {
     "name": "stdout",
     "output_type": "stream",
     "text": [
      "\u001b[34m\u001b[1mval: \u001b[0mFast image access ✅ (ping: 2.6±1.2 ms, read: 8.9±2.6 MB/s, size: 45.3 KB)\n"
     ]
    },
    {
     "name": "stderr",
     "output_type": "stream",
     "text": [
      "\u001b[34m\u001b[1mval: \u001b[0mScanning /mnt/c/Users/beeha/VSCode/College/CS406/data/dataset_v4/split_v4/val/labels.cache... 402 images, 0 backgrounds, 0 corrupt: 100%|██████████| 402/402 [00:00<?, ?it/s]\n"
     ]
    },
    {
     "name": "stdout",
     "output_type": "stream",
     "text": [
      "Plotting labels to ppe-yolo/training8/labels.jpg... \n",
      "\u001b[34m\u001b[1moptimizer:\u001b[0m 'optimizer=auto' found, ignoring 'lr0=0.01' and 'momentum=0.937' and determining best 'optimizer', 'lr0' and 'momentum' automatically... \n",
      "\u001b[34m\u001b[1moptimizer:\u001b[0m AdamW(lr=0.00125, momentum=0.9) with parameter groups 81 weight(decay=0.0), 88 weight(decay=0.0005), 87 bias(decay=0.0)\n",
      "Image sizes 640 train, 640 val\n",
      "Using 8 dataloader workers\n",
      "Logging results to \u001b[1mppe-yolo/training8\u001b[0m\n",
      "Starting training for 1 epochs...\n",
      "\n",
      "      Epoch    GPU_mem   box_loss   cls_loss   dfl_loss  Instances       Size\n"
     ]
    },
    {
     "name": "stderr",
     "output_type": "stream",
     "text": [
      "        1/1     0.447G      1.654       2.86      1.624         12        640:  73%|███████▎  | 690/939 [02:31<00:35,  7.01it/s]  \u001b[34m\u001b[1mwandb\u001b[0m: Ctrl + C detected. Stopping sweep.\n"
     ]
    },
    {
     "name": "stdout",
     "output_type": "stream",
     "text": [
      "Error in callback <bound method _WandbInit._post_run_cell_hook of <wandb.sdk.wandb_init._WandbInit object at 0x7f99b0041520>> (for post_run_cell), with arguments args (<ExecutionResult object at 7f99b97366d0, execution_count=14 error_before_exec=None error_in_exec=None info=<ExecutionInfo object at 7f99b9736a00, raw_cell=\"from train_yolo_wandb import trainer\n",
      "\n",
      "print(f\"Swee..\" store_history=True silent=False shell_futures=True cell_id=vscode-notebook-cell://wsl%2Bubuntu/mnt/c/Users/beeha/VSCode/College/CS406/scripts/SWEEP.ipynb#W6sdnNjb2RlLXJlbW90ZQ%3D%3D> result=None>,),kwargs {}:\n"
     ]
    },
    {
     "name": "stderr",
     "output_type": "stream",
     "text": [
      "        1/1     0.447G      1.654      2.858      1.624         25        640:  74%|███████▎  | 691/939 [02:32<00:58,  4.24it/s]"
     ]
    },
    {
     "ename": "BrokenPipeError",
     "evalue": "[Errno 32] Broken pipe",
     "output_type": "error",
     "traceback": [
      "\u001b[0;31m---------------------------------------------------------------------------\u001b[0m",
      "\u001b[0;31mBrokenPipeError\u001b[0m                           Traceback (most recent call last)",
      "File \u001b[0;32m~/anaconda3/envs/wandb/lib/python3.9/site-packages/wandb/sdk/wandb_init.py:593\u001b[0m, in \u001b[0;36m_WandbInit._post_run_cell_hook\u001b[0;34m(self, *args, **kwargs)\u001b[0m\n\u001b[1;32m    590\u001b[0m     \u001b[38;5;28;01mreturn\u001b[39;00m\n\u001b[1;32m    592\u001b[0m \u001b[38;5;28mself\u001b[39m\u001b[38;5;241m.\u001b[39m_logger\u001b[38;5;241m.\u001b[39minfo(\u001b[38;5;124m\"\u001b[39m\u001b[38;5;124mresuming backend\u001b[39m\u001b[38;5;124m\"\u001b[39m)\n\u001b[0;32m--> 593\u001b[0m \u001b[38;5;28;43mself\u001b[39;49m\u001b[38;5;241;43m.\u001b[39;49m\u001b[43mbackend\u001b[49m\u001b[38;5;241;43m.\u001b[39;49m\u001b[43minterface\u001b[49m\u001b[38;5;241;43m.\u001b[39;49m\u001b[43mpublish_resume\u001b[49m\u001b[43m(\u001b[49m\u001b[43m)\u001b[49m\n",
      "File \u001b[0;32m~/anaconda3/envs/wandb/lib/python3.9/site-packages/wandb/sdk/interface/interface.py:787\u001b[0m, in \u001b[0;36mInterfaceBase.publish_resume\u001b[0;34m(self)\u001b[0m\n\u001b[1;32m    785\u001b[0m \u001b[38;5;28;01mdef\u001b[39;00m\u001b[38;5;250m \u001b[39m\u001b[38;5;21mpublish_resume\u001b[39m(\u001b[38;5;28mself\u001b[39m) \u001b[38;5;241m-\u001b[39m\u001b[38;5;241m>\u001b[39m \u001b[38;5;28;01mNone\u001b[39;00m:\n\u001b[1;32m    786\u001b[0m     resume \u001b[38;5;241m=\u001b[39m pb\u001b[38;5;241m.\u001b[39mResumeRequest()\n\u001b[0;32m--> 787\u001b[0m     \u001b[38;5;28;43mself\u001b[39;49m\u001b[38;5;241;43m.\u001b[39;49m\u001b[43m_publish_resume\u001b[49m\u001b[43m(\u001b[49m\u001b[43mresume\u001b[49m\u001b[43m)\u001b[49m\n",
      "File \u001b[0;32m~/anaconda3/envs/wandb/lib/python3.9/site-packages/wandb/sdk/interface/interface_shared.py:294\u001b[0m, in \u001b[0;36mInterfaceShared._publish_resume\u001b[0;34m(self, resume)\u001b[0m\n\u001b[1;32m    292\u001b[0m \u001b[38;5;28;01mdef\u001b[39;00m\u001b[38;5;250m \u001b[39m\u001b[38;5;21m_publish_resume\u001b[39m(\u001b[38;5;28mself\u001b[39m, resume: pb\u001b[38;5;241m.\u001b[39mResumeRequest) \u001b[38;5;241m-\u001b[39m\u001b[38;5;241m>\u001b[39m \u001b[38;5;28;01mNone\u001b[39;00m:\n\u001b[1;32m    293\u001b[0m     rec \u001b[38;5;241m=\u001b[39m \u001b[38;5;28mself\u001b[39m\u001b[38;5;241m.\u001b[39m_make_request(resume\u001b[38;5;241m=\u001b[39mresume)\n\u001b[0;32m--> 294\u001b[0m     \u001b[38;5;28;43mself\u001b[39;49m\u001b[38;5;241;43m.\u001b[39;49m\u001b[43m_publish\u001b[49m\u001b[43m(\u001b[49m\u001b[43mrec\u001b[49m\u001b[43m)\u001b[49m\n",
      "File \u001b[0;32m~/anaconda3/envs/wandb/lib/python3.9/site-packages/wandb/sdk/interface/interface_sock.py:39\u001b[0m, in \u001b[0;36mInterfaceSock._publish\u001b[0;34m(self, record, local)\u001b[0m\n\u001b[1;32m     37\u001b[0m \u001b[38;5;28;01mdef\u001b[39;00m\u001b[38;5;250m \u001b[39m\u001b[38;5;21m_publish\u001b[39m(\u001b[38;5;28mself\u001b[39m, record: \u001b[38;5;124m\"\u001b[39m\u001b[38;5;124mpb.Record\u001b[39m\u001b[38;5;124m\"\u001b[39m, local: Optional[\u001b[38;5;28mbool\u001b[39m] \u001b[38;5;241m=\u001b[39m \u001b[38;5;28;01mNone\u001b[39;00m) \u001b[38;5;241m-\u001b[39m\u001b[38;5;241m>\u001b[39m \u001b[38;5;28;01mNone\u001b[39;00m:\n\u001b[1;32m     38\u001b[0m     \u001b[38;5;28mself\u001b[39m\u001b[38;5;241m.\u001b[39m_assign(record)\n\u001b[0;32m---> 39\u001b[0m     \u001b[38;5;28;43mself\u001b[39;49m\u001b[38;5;241;43m.\u001b[39;49m\u001b[43m_sock_client\u001b[49m\u001b[38;5;241;43m.\u001b[39;49m\u001b[43msend_record_publish\u001b[49m\u001b[43m(\u001b[49m\u001b[43mrecord\u001b[49m\u001b[43m)\u001b[49m\n",
      "File \u001b[0;32m~/anaconda3/envs/wandb/lib/python3.9/site-packages/wandb/sdk/lib/sock_client.py:166\u001b[0m, in \u001b[0;36mSockClient.send_record_publish\u001b[0;34m(self, record)\u001b[0m\n\u001b[1;32m    164\u001b[0m server_req\u001b[38;5;241m.\u001b[39mrequest_id \u001b[38;5;241m=\u001b[39m record\u001b[38;5;241m.\u001b[39mcontrol\u001b[38;5;241m.\u001b[39mmailbox_slot\n\u001b[1;32m    165\u001b[0m server_req\u001b[38;5;241m.\u001b[39mrecord_publish\u001b[38;5;241m.\u001b[39mCopyFrom(record)\n\u001b[0;32m--> 166\u001b[0m \u001b[38;5;28;43mself\u001b[39;49m\u001b[38;5;241;43m.\u001b[39;49m\u001b[43msend_server_request\u001b[49m\u001b[43m(\u001b[49m\u001b[43mserver_req\u001b[49m\u001b[43m)\u001b[49m\n",
      "File \u001b[0;32m~/anaconda3/envs/wandb/lib/python3.9/site-packages/wandb/sdk/lib/sock_client.py:146\u001b[0m, in \u001b[0;36mSockClient.send_server_request\u001b[0;34m(self, msg)\u001b[0m\n\u001b[1;32m    145\u001b[0m \u001b[38;5;28;01mdef\u001b[39;00m\u001b[38;5;250m \u001b[39m\u001b[38;5;21msend_server_request\u001b[39m(\u001b[38;5;28mself\u001b[39m, msg: spb\u001b[38;5;241m.\u001b[39mServerRequest) \u001b[38;5;241m-\u001b[39m\u001b[38;5;241m>\u001b[39m \u001b[38;5;28;01mNone\u001b[39;00m:\n\u001b[0;32m--> 146\u001b[0m     \u001b[38;5;28;43mself\u001b[39;49m\u001b[38;5;241;43m.\u001b[39;49m\u001b[43m_send_message\u001b[49m\u001b[43m(\u001b[49m\u001b[43mmsg\u001b[49m\u001b[43m)\u001b[49m\n",
      "File \u001b[0;32m~/anaconda3/envs/wandb/lib/python3.9/site-packages/wandb/sdk/lib/sock_client.py:143\u001b[0m, in \u001b[0;36mSockClient._send_message\u001b[0;34m(self, msg)\u001b[0m\n\u001b[1;32m    141\u001b[0m header \u001b[38;5;241m=\u001b[39m struct\u001b[38;5;241m.\u001b[39mpack(\u001b[38;5;124m\"\u001b[39m\u001b[38;5;124m<BI\u001b[39m\u001b[38;5;124m\"\u001b[39m, \u001b[38;5;28mord\u001b[39m(\u001b[38;5;124m\"\u001b[39m\u001b[38;5;124mW\u001b[39m\u001b[38;5;124m\"\u001b[39m), raw_size)\n\u001b[1;32m    142\u001b[0m \u001b[38;5;28;01mwith\u001b[39;00m \u001b[38;5;28mself\u001b[39m\u001b[38;5;241m.\u001b[39m_lock:\n\u001b[0;32m--> 143\u001b[0m     \u001b[38;5;28;43mself\u001b[39;49m\u001b[38;5;241;43m.\u001b[39;49m\u001b[43m_sendall_with_error_handle\u001b[49m\u001b[43m(\u001b[49m\u001b[43mheader\u001b[49m\u001b[43m \u001b[49m\u001b[38;5;241;43m+\u001b[39;49m\u001b[43m \u001b[49m\u001b[43mdata\u001b[49m\u001b[43m)\u001b[49m\n",
      "File \u001b[0;32m~/anaconda3/envs/wandb/lib/python3.9/site-packages/wandb/sdk/lib/sock_client.py:122\u001b[0m, in \u001b[0;36mSockClient._sendall_with_error_handle\u001b[0;34m(self, data)\u001b[0m\n\u001b[1;32m    120\u001b[0m start_time \u001b[38;5;241m=\u001b[39m time\u001b[38;5;241m.\u001b[39mmonotonic()\n\u001b[1;32m    121\u001b[0m \u001b[38;5;28;01mtry\u001b[39;00m:\n\u001b[0;32m--> 122\u001b[0m     sent \u001b[38;5;241m=\u001b[39m \u001b[38;5;28;43mself\u001b[39;49m\u001b[38;5;241;43m.\u001b[39;49m\u001b[43m_sock\u001b[49m\u001b[38;5;241;43m.\u001b[39;49m\u001b[43msend\u001b[49m\u001b[43m(\u001b[49m\u001b[43mdata\u001b[49m\u001b[43m)\u001b[49m\n\u001b[1;32m    123\u001b[0m     \u001b[38;5;66;03m# sent equal to 0 indicates a closed socket\u001b[39;00m\n\u001b[1;32m    124\u001b[0m     \u001b[38;5;28;01mif\u001b[39;00m sent \u001b[38;5;241m==\u001b[39m \u001b[38;5;241m0\u001b[39m:\n",
      "\u001b[0;31mBrokenPipeError\u001b[0m: [Errno 32] Broken pipe"
     ]
    },
    {
     "name": "stderr",
     "output_type": "stream",
     "text": [
      "        1/1     0.447G      1.656      2.855      1.625          9        640:  74%|███████▍  | 698/939 [02:34<00:53,  4.53it/s]Exception ignored in: <generator object tqdm.__iter__ at 0x7f9aca85cd60>\n",
      "Traceback (most recent call last):\n",
      "  File \"/root/anaconda3/envs/wandb/lib/python3.9/site-packages/tqdm/std.py\", line 1196, in __iter__\n",
      "    self.close()\n",
      "  File \"/root/anaconda3/envs/wandb/lib/python3.9/site-packages/tqdm/std.py\", line 1302, in close\n",
      "    self.display(pos=0)\n",
      "  File \"/root/anaconda3/envs/wandb/lib/python3.9/site-packages/tqdm/std.py\", line 1495, in display\n",
      "    self.sp(self.__str__() if msg is None else msg)\n",
      "  File \"/root/anaconda3/envs/wandb/lib/python3.9/site-packages/tqdm/std.py\", line 459, in print_status\n",
      "    fp_write('\\r' + s + (' ' * max(last_len[0] - len_s, 0)))\n",
      "  File \"/root/anaconda3/envs/wandb/lib/python3.9/site-packages/tqdm/std.py\", line 453, in fp_write\n",
      "    fp_flush()\n",
      "  File \"/root/anaconda3/envs/wandb/lib/python3.9/site-packages/tqdm/utils.py\", line 196, in inner\n",
      "    return func(*args, **kwargs)\n",
      "  File \"/root/anaconda3/envs/wandb/lib/python3.9/site-packages/ipykernel/iostream.py\", line 604, in flush\n",
      "    self.pub_thread.schedule(self._flush)\n",
      "  File \"/root/anaconda3/envs/wandb/lib/python3.9/site-packages/ipykernel/iostream.py\", line 267, in schedule\n",
      "    self._event_pipe.send(b\"\")\n",
      "  File \"/root/anaconda3/envs/wandb/lib/python3.9/site-packages/zmq/sugar/socket.py\", line 698, in send\n",
      "    return super().send(data, flags=flags, copy=copy, track=track)\n",
      "  File \"zmq/backend/cython/_zmq.py\", line 1137, in zmq.backend.cython._zmq.Socket.send\n",
      "  File \"zmq/backend/cython/_zmq.py\", line 1179, in zmq.backend.cython._zmq.Socket.send\n",
      "  File \"zmq/backend/cython/_zmq.py\", line 1324, in zmq.backend.cython._zmq._check_closed\n",
      "zmq.error.ZMQError: Socket operation on non-socket\n",
      "Exception ignored in sys.unraisablehook: <built-in function unraisablehook>\n",
      "Traceback (most recent call last):\n",
      "  File \"/root/anaconda3/envs/wandb/lib/python3.9/site-packages/ipykernel/iostream.py\", line 604, in flush\n",
      "    self.pub_thread.schedule(self._flush)\n",
      "  File \"/root/anaconda3/envs/wandb/lib/python3.9/site-packages/ipykernel/iostream.py\", line 267, in schedule\n",
      "    self._event_pipe.send(b\"\")\n",
      "  File \"/root/anaconda3/envs/wandb/lib/python3.9/site-packages/zmq/sugar/socket.py\", line 698, in send\n",
      "    return super().send(data, flags=flags, copy=copy, track=track)\n",
      "  File \"zmq/backend/cython/_zmq.py\", line 1137, in zmq.backend.cython._zmq.Socket.send\n",
      "  File \"zmq/backend/cython/_zmq.py\", line 1179, in zmq.backend.cython._zmq.Socket.send\n",
      "  File \"zmq/backend/cython/_zmq.py\", line 1324, in zmq.backend.cython._zmq._check_closed\n",
      "zmq.error.ZMQError: Socket operation on non-socket\n",
      "Traceback (most recent call last):\n",
      "Traceback (most recent call last):\n",
      "  File \"/mnt/c/Users/beeha/VSCode/College/CS406/scripts/train_yolo_wandb.py\", line 52, in trainer\n",
      "    model.train(\n",
      "  File \"/root/anaconda3/envs/wandb/lib/python3.9/site-packages/ultralytics/engine/model.py\", line 799, in train\n",
      "    self.trainer.train()\n",
      "  File \"/root/anaconda3/envs/wandb/lib/python3.9/site-packages/ultralytics/engine/trainer.py\", line 227, in train\n",
      "    self._do_train(world_size)\n",
      "  File \"/root/anaconda3/envs/wandb/lib/python3.9/site-packages/ultralytics/engine/trainer.py\", line 435, in _do_train\n",
      "    pbar.set_description(\n",
      "  File \"/root/anaconda3/envs/wandb/lib/python3.9/site-packages/tqdm/std.py\", line 1394, in set_description\n",
      "    self.refresh()\n",
      "  File \"/root/anaconda3/envs/wandb/lib/python3.9/site-packages/tqdm/std.py\", line 1347, in refresh\n",
      "    self.display()\n",
      "  File \"/root/anaconda3/envs/wandb/lib/python3.9/site-packages/tqdm/std.py\", line 1495, in display\n",
      "    self.sp(self.__str__() if msg is None else msg)\n",
      "  File \"/root/anaconda3/envs/wandb/lib/python3.9/site-packages/tqdm/std.py\", line 459, in print_status\n",
      "    fp_write('\\r' + s + (' ' * max(last_len[0] - len_s, 0)))\n",
      "  File \"/root/anaconda3/envs/wandb/lib/python3.9/site-packages/tqdm/std.py\", line 452, in fp_write\n",
      "    fp.write(str(s))\n",
      "  File \"/root/anaconda3/envs/wandb/lib/python3.9/site-packages/tqdm/utils.py\", line 196, in inner\n",
      "    return func(*args, **kwargs)\n",
      "  File \"/root/anaconda3/envs/wandb/lib/python3.9/contextlib.py\", line 79, in inner\n",
      "    return func(*args, **kwds)\n",
      "  File \"/root/anaconda3/envs/wandb/lib/python3.9/site-packages/wandb/sdk/lib/console_capture.py\", line 168, in write_with_callbacks\n",
      "    n = orig_write(s)\n",
      "  File \"/root/anaconda3/envs/wandb/lib/python3.9/site-packages/ipykernel/iostream.py\", line 694, in write\n",
      "    self._schedule_flush()\n",
      "  File \"/root/anaconda3/envs/wandb/lib/python3.9/site-packages/ipykernel/iostream.py\", line 590, in _schedule_flush\n",
      "    self.pub_thread.schedule(_schedule_in_thread)\n",
      "  File \"/root/anaconda3/envs/wandb/lib/python3.9/site-packages/ipykernel/iostream.py\", line 267, in schedule\n",
      "    self._event_pipe.send(b\"\")\n",
      "  File \"/root/anaconda3/envs/wandb/lib/python3.9/site-packages/zmq/sugar/socket.py\", line 698, in send\n",
      "    return super().send(data, flags=flags, copy=copy, track=track)\n",
      "  File \"zmq/backend/cython/_zmq.py\", line 1137, in zmq.backend.cython._zmq.Socket.send\n",
      "  File \"zmq/backend/cython/_zmq.py\", line 1179, in zmq.backend.cython._zmq.Socket.send\n",
      "  File \"zmq/backend/cython/_zmq.py\", line 1324, in zmq.backend.cython._zmq._check_closed\n",
      "zmq.error.ZMQError: Socket operation on non-socket\n",
      "\n",
      "During handling of the above exception, another exception occurred:\n",
      "\n",
      "Traceback (most recent call last):\n",
      "  File \"/root/anaconda3/envs/wandb/lib/python3.9/site-packages/wandb/agents/pyagent.py\", line 297, in _run_job\n",
      "    self._function()\n",
      "  File \"/mnt/c/Users/beeha/VSCode/College/CS406/scripts/train_yolo_wandb.py\", line 52, in trainer\n",
      "    model.train(\n",
      "  File \"/root/anaconda3/envs/wandb/lib/python3.9/site-packages/wandb/sdk/wandb_run.py\", line 3625, in __exit__\n",
      "    traceback.print_exception(exc_type, exc_val, exc_tb)\n",
      "  File \"/root/anaconda3/envs/wandb/lib/python3.9/traceback.py\", line 105, in print_exception\n",
      "    print(line, file=file, end=\"\")\n",
      "  File \"/root/anaconda3/envs/wandb/lib/python3.9/contextlib.py\", line 79, in inner\n",
      "    return func(*args, **kwds)\n",
      "  File \"/root/anaconda3/envs/wandb/lib/python3.9/site-packages/wandb/sdk/lib/console_capture.py\", line 168, in write_with_callbacks\n",
      "    n = orig_write(s)\n",
      "  File \"/root/anaconda3/envs/wandb/lib/python3.9/site-packages/ipykernel/iostream.py\", line 694, in write\n",
      "    self._schedule_flush()\n",
      "  File \"/root/anaconda3/envs/wandb/lib/python3.9/site-packages/ipykernel/iostream.py\", line 590, in _schedule_flush\n",
      "    self.pub_thread.schedule(_schedule_in_thread)\n",
      "  File \"/root/anaconda3/envs/wandb/lib/python3.9/site-packages/ipykernel/iostream.py\", line 267, in schedule\n",
      "    self._event_pipe.send(b\"\")\n",
      "  File \"/root/anaconda3/envs/wandb/lib/python3.9/site-packages/zmq/sugar/socket.py\", line 698, in send\n",
      "    return super().send(data, flags=flags, copy=copy, track=track)\n",
      "  File \"zmq/backend/cython/_zmq.py\", line 1137, in zmq.backend.cython._zmq.Socket.send\n",
      "  File \"zmq/backend/cython/_zmq.py\", line 1179, in zmq.backend.cython._zmq.Socket.send\n",
      "  File \"zmq/backend/cython/_zmq.py\", line 1324, in zmq.backend.cython._zmq._check_closed\n",
      "zmq.error.ZMQError: Socket operation on non-socket\n",
      "\n",
      "Exception in thread Thread-53:\n",
      "Traceback (most recent call last):\n",
      "  File \"/mnt/c/Users/beeha/VSCode/College/CS406/scripts/train_yolo_wandb.py\", line 52, in trainer\n",
      "    model.train(\n",
      "  File \"/root/anaconda3/envs/wandb/lib/python3.9/site-packages/ultralytics/engine/model.py\", line 799, in train\n",
      "    self.trainer.train()\n",
      "  File \"/root/anaconda3/envs/wandb/lib/python3.9/site-packages/ultralytics/engine/trainer.py\", line 227, in train\n",
      "    self._do_train(world_size)\n",
      "  File \"/root/anaconda3/envs/wandb/lib/python3.9/site-packages/ultralytics/engine/trainer.py\", line 435, in _do_train\n",
      "    pbar.set_description(\n",
      "  File \"/root/anaconda3/envs/wandb/lib/python3.9/site-packages/tqdm/std.py\", line 1394, in set_description\n",
      "    self.refresh()\n",
      "  File \"/root/anaconda3/envs/wandb/lib/python3.9/site-packages/tqdm/std.py\", line 1347, in refresh\n",
      "    self.display()\n",
      "  File \"/root/anaconda3/envs/wandb/lib/python3.9/site-packages/tqdm/std.py\", line 1495, in display\n",
      "    self.sp(self.__str__() if msg is None else msg)\n",
      "  File \"/root/anaconda3/envs/wandb/lib/python3.9/site-packages/tqdm/std.py\", line 459, in print_status\n",
      "    fp_write('\\r' + s + (' ' * max(last_len[0] - len_s, 0)))\n",
      "  File \"/root/anaconda3/envs/wandb/lib/python3.9/site-packages/tqdm/std.py\", line 452, in fp_write\n",
      "    fp.write(str(s))\n",
      "  File \"/root/anaconda3/envs/wandb/lib/python3.9/site-packages/tqdm/utils.py\", line 196, in inner\n",
      "    return func(*args, **kwargs)\n",
      "  File \"/root/anaconda3/envs/wandb/lib/python3.9/contextlib.py\", line 79, in inner\n",
      "    return func(*args, **kwds)\n",
      "  File \"/root/anaconda3/envs/wandb/lib/python3.9/site-packages/wandb/sdk/lib/console_capture.py\", line 168, in write_with_callbacks\n",
      "    n = orig_write(s)\n",
      "  File \"/root/anaconda3/envs/wandb/lib/python3.9/site-packages/ipykernel/iostream.py\", line 694, in write\n",
      "    self._schedule_flush()\n",
      "  File \"/root/anaconda3/envs/wandb/lib/python3.9/site-packages/ipykernel/iostream.py\", line 590, in _schedule_flush\n",
      "\n",
      "\n",
      "During handling of the above exception, another exception occurred:\n",
      "\n",
      "Traceback (most recent call last):\n",
      "  File \"/root/anaconda3/envs/wandb/lib/python3.9/site-packages/wandb/agents/pyagent.py\", line 297, in _run_job\n",
      "    self._function()\n",
      "  File \"/mnt/c/Users/beeha/VSCode/College/CS406/scripts/train_yolo_wandb.py\", line 52, in trainer\n",
      "    model.train(\n",
      "  File \"/root/anaconda3/envs/wandb/lib/python3.9/site-packages/wandb/sdk/wandb_run.py\", line 3625, in __exit__\n",
      "    traceback.print_exception(exc_type, exc_val, exc_tb)\n",
      "  File \"/root/anaconda3/envs/wandb/lib/python3.9/traceback.py\", line 105, in print_exception\n",
      "    print(line, file=file, end=\"\")\n",
      "  File \"/root/anaconda3/envs/wandb/lib/python3.9/contextlib.py\", line 79, in inner\n",
      "    return func(*args, **kwds)\n",
      "  File \"/root/anaconda3/envs/wandb/lib/python3.9/site-packages/wandb/sdk/lib/console_capture.py\", line 168, in write_with_callbacks\n",
      "    n = orig_write(s)\n",
      "  File \"/root/anaconda3/envs/wandb/lib/python3.9/site-packages/ipykernel/iostream.py\", line 694, in write\n",
      "    self._schedule_flush()\n",
      "  File \"/root/anaconda3/envs/wandb/lib/python3.9/site-packages/ipykernel/iostream.py\", line 590, in _schedule_flush\n",
      "    self.pub_thread.schedule(_schedule_in_thread)\n",
      "  File \"/root/anaconda3/envs/wandb/lib/python3.9/site-packages/ipykernel/iostream.py\", line 267, in schedule\n",
      "    self._event_pipe.send(b\"\")\n",
      "  File \"/root/anaconda3/envs/wandb/lib/python3.9/site-packages/zmq/sugar/socket.py\", line 698, in send\n",
      "    return super().send(data, flags=flags, copy=copy, track=track)\n",
      "  File \"zmq/backend/cython/_zmq.py\", line 1137, in zmq.backend.cython._zmq.Socket.send\n",
      "  File \"zmq/backend/cython/_zmq.py\", line 1179, in zmq.backend.cython._zmq.Socket.send\n",
      "  File \"zmq/backend/cython/_zmq.py\", line 1324, in zmq.backend.cython._zmq._check_closed\n",
      "zmq.error.ZMQError: Socket operation on non-socket\n",
      "\n",
      "The above exception was the direct cause of the following exception:\n",
      "\n",
      "Traceback (most recent call last):\n",
      "  File \"/root/anaconda3/envs/wandb/lib/python3.9/site-packages/wandb/agents/pyagent.py\", line 307, in _run_job\n",
      "    raise _JobError(f\"Run threw exception: {str(e)}\") from e"
     ]
    }
   ],
   "source": [
    "from train_yolo_wandb import trainer\n",
    "\n",
    "print(f\"Sweep ID: {sweep_id}\")\n",
    "wandb.agent(sweep_id, count=2, function=trainer)"
   ]
  }
 ],
 "metadata": {
  "kernelspec": {
   "display_name": "wandb",
   "language": "python",
   "name": "python3"
  },
  "language_info": {
   "codemirror_mode": {
    "name": "ipython",
    "version": 3
   },
   "file_extension": ".py",
   "mimetype": "text/x-python",
   "name": "python",
   "nbconvert_exporter": "python",
   "pygments_lexer": "ipython3",
   "version": "3.9.23"
  }
 },
 "nbformat": 4,
 "nbformat_minor": 5
}
