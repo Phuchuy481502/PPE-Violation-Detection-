{
 "cells": [
  {
   "cell_type": "code",
   "execution_count": 1,
   "id": "58591216",
   "metadata": {
    "_cell_guid": "b1076dfc-b9ad-4769-8c92-a6c4dae69d19",
    "_uuid": "8f2839f25d086af736a60e9eeb907d3b93b6e0e5",
    "execution": {
     "iopub.execute_input": "2024-12-29T17:41:52.577981Z",
     "iopub.status.busy": "2024-12-29T17:41:52.577616Z",
     "iopub.status.idle": "2024-12-29T17:41:53.293383Z",
     "shell.execute_reply": "2024-12-29T17:41:53.292721Z"
    },
    "papermill": {
     "duration": 0.721273,
     "end_time": "2024-12-29T17:41:53.295420",
     "exception": false,
     "start_time": "2024-12-29T17:41:52.574147",
     "status": "completed"
    },
    "tags": []
   },
   "outputs": [],
   "source": [
    "# This Python 3 environment comes with many helpful analytics libraries installed\n",
    "# It is defined by the kaggle/python Docker image: https://github.com/kaggle/docker-python\n",
    "# For example, here's several helpful packages to load\n",
    "\n",
    "import numpy as np # linear algebra\n",
    "import pandas as pd # data processing, CSV file I/O (e.g. pd.read_csv)\n",
    "\n",
    "# Input data files are available in the read-only \"../input/\" directory\n",
    "# For example, running this (by clicking run or pressing Shift+Enter) will list all files under the input directory\n",
    "\n",
    "import os\n",
    "# for dirname, _, filenames in os.walk('/kaggle/input'):\n",
    "#     for filename in filenames:\n",
    "#         print(os.path.join(dirname, filename))\n",
    "\n",
    "# You can write up to 20GB to the current directory (/kaggle/working/) that gets preserved as output when you create a version using \"Save & Run All\" \n",
    "# You can also write temporary files to /kaggle/temp/, but they won't be saved outside of the current session"
   ]
  },
  {
   "cell_type": "code",
   "execution_count": 2,
   "id": "bffbac29",
   "metadata": {
    "execution": {
     "iopub.execute_input": "2024-12-29T17:41:53.300963Z",
     "iopub.status.busy": "2024-12-29T17:41:53.300321Z",
     "iopub.status.idle": "2024-12-29T17:42:03.885286Z",
     "shell.execute_reply": "2024-12-29T17:42:03.884167Z"
    },
    "papermill": {
     "duration": 10.589413,
     "end_time": "2024-12-29T17:42:03.887104",
     "exception": false,
     "start_time": "2024-12-29T17:41:53.297691",
     "status": "completed"
    },
    "tags": []
   },
   "outputs": [
    {
     "name": "stdout",
     "output_type": "stream",
     "text": [
      "Collecting ultralytics==8.0.38\r\n",
      "  Downloading ultralytics-8.0.38-py3-none-any.whl.metadata (23 kB)\r\n",
      "Requirement already satisfied: matplotlib>=3.2.2 in /opt/conda/lib/python3.10/site-packages (from ultralytics==8.0.38) (3.7.5)\r\n",
      "Requirement already satisfied: numpy>=1.18.5 in /opt/conda/lib/python3.10/site-packages (from ultralytics==8.0.38) (1.26.4)\r\n",
      "Requirement already satisfied: opencv-python>=4.6.0 in /opt/conda/lib/python3.10/site-packages (from ultralytics==8.0.38) (4.10.0.84)\r\n",
      "Requirement already satisfied: Pillow>=7.1.2 in /opt/conda/lib/python3.10/site-packages (from ultralytics==8.0.38) (9.5.0)\r\n",
      "Requirement already satisfied: PyYAML>=5.3.1 in /opt/conda/lib/python3.10/site-packages (from ultralytics==8.0.38) (6.0.1)\r\n",
      "Requirement already satisfied: requests>=2.23.0 in /opt/conda/lib/python3.10/site-packages (from ultralytics==8.0.38) (2.32.3)\r\n",
      "Requirement already satisfied: scipy>=1.4.1 in /opt/conda/lib/python3.10/site-packages (from ultralytics==8.0.38) (1.11.4)\r\n",
      "Requirement already satisfied: torch>=1.7.0 in /opt/conda/lib/python3.10/site-packages (from ultralytics==8.0.38) (2.1.2)\r\n",
      "Requirement already satisfied: torchvision>=0.8.1 in /opt/conda/lib/python3.10/site-packages (from ultralytics==8.0.38) (0.16.2)\r\n",
      "Requirement already satisfied: tqdm>=4.64.0 in /opt/conda/lib/python3.10/site-packages (from ultralytics==8.0.38) (4.66.4)\r\n",
      "Requirement already satisfied: tensorboard>=2.4.1 in /opt/conda/lib/python3.10/site-packages (from ultralytics==8.0.38) (2.15.1)\r\n",
      "Requirement already satisfied: pandas>=1.1.4 in /opt/conda/lib/python3.10/site-packages (from ultralytics==8.0.38) (2.2.2)\r\n",
      "Requirement already satisfied: seaborn>=0.11.0 in /opt/conda/lib/python3.10/site-packages (from ultralytics==8.0.38) (0.12.2)\r\n",
      "Requirement already satisfied: psutil in /opt/conda/lib/python3.10/site-packages (from ultralytics==8.0.38) (5.9.3)\r\n",
      "Collecting thop>=0.1.1 (from ultralytics==8.0.38)\r\n",
      "  Downloading thop-0.1.1.post2209072238-py3-none-any.whl.metadata (2.7 kB)\r\n",
      "Requirement already satisfied: wheel>=0.38.0 in /opt/conda/lib/python3.10/site-packages (from ultralytics==8.0.38) (0.42.0)\r\n",
      "Requirement already satisfied: sentry-sdk in /opt/conda/lib/python3.10/site-packages (from ultralytics==8.0.38) (2.8.0)\r\n",
      "Requirement already satisfied: contourpy>=1.0.1 in /opt/conda/lib/python3.10/site-packages (from matplotlib>=3.2.2->ultralytics==8.0.38) (1.2.0)\r\n",
      "Requirement already satisfied: cycler>=0.10 in /opt/conda/lib/python3.10/site-packages (from matplotlib>=3.2.2->ultralytics==8.0.38) (0.12.1)\r\n",
      "Requirement already satisfied: fonttools>=4.22.0 in /opt/conda/lib/python3.10/site-packages (from matplotlib>=3.2.2->ultralytics==8.0.38) (4.47.0)\r\n",
      "Requirement already satisfied: kiwisolver>=1.0.1 in /opt/conda/lib/python3.10/site-packages (from matplotlib>=3.2.2->ultralytics==8.0.38) (1.4.5)\r\n",
      "Requirement already satisfied: packaging>=20.0 in /opt/conda/lib/python3.10/site-packages (from matplotlib>=3.2.2->ultralytics==8.0.38) (21.3)\r\n",
      "Requirement already satisfied: pyparsing>=2.3.1 in /opt/conda/lib/python3.10/site-packages (from matplotlib>=3.2.2->ultralytics==8.0.38) (3.1.1)\r\n",
      "Requirement already satisfied: python-dateutil>=2.7 in /opt/conda/lib/python3.10/site-packages (from matplotlib>=3.2.2->ultralytics==8.0.38) (2.9.0.post0)\r\n",
      "Requirement already satisfied: pytz>=2020.1 in /opt/conda/lib/python3.10/site-packages (from pandas>=1.1.4->ultralytics==8.0.38) (2023.3.post1)\r\n",
      "Requirement already satisfied: tzdata>=2022.7 in /opt/conda/lib/python3.10/site-packages (from pandas>=1.1.4->ultralytics==8.0.38) (2023.4)\r\n",
      "Requirement already satisfied: charset-normalizer<4,>=2 in /opt/conda/lib/python3.10/site-packages (from requests>=2.23.0->ultralytics==8.0.38) (3.3.2)\r\n",
      "Requirement already satisfied: idna<4,>=2.5 in /opt/conda/lib/python3.10/site-packages (from requests>=2.23.0->ultralytics==8.0.38) (3.6)\r\n",
      "Requirement already satisfied: urllib3<3,>=1.21.1 in /opt/conda/lib/python3.10/site-packages (from requests>=2.23.0->ultralytics==8.0.38) (1.26.18)\r\n",
      "Requirement already satisfied: certifi>=2017.4.17 in /opt/conda/lib/python3.10/site-packages (from requests>=2.23.0->ultralytics==8.0.38) (2024.7.4)\r\n",
      "Requirement already satisfied: absl-py>=0.4 in /opt/conda/lib/python3.10/site-packages (from tensorboard>=2.4.1->ultralytics==8.0.38) (1.4.0)\r\n",
      "Requirement already satisfied: grpcio>=1.48.2 in /opt/conda/lib/python3.10/site-packages (from tensorboard>=2.4.1->ultralytics==8.0.38) (1.60.0)\r\n",
      "Requirement already satisfied: google-auth<3,>=1.6.3 in /opt/conda/lib/python3.10/site-packages (from tensorboard>=2.4.1->ultralytics==8.0.38) (2.26.1)\r\n",
      "Requirement already satisfied: google-auth-oauthlib<2,>=0.5 in /opt/conda/lib/python3.10/site-packages (from tensorboard>=2.4.1->ultralytics==8.0.38) (1.2.0)\r\n",
      "Requirement already satisfied: markdown>=2.6.8 in /opt/conda/lib/python3.10/site-packages (from tensorboard>=2.4.1->ultralytics==8.0.38) (3.5.2)\r\n",
      "Requirement already satisfied: protobuf<4.24,>=3.19.6 in /opt/conda/lib/python3.10/site-packages (from tensorboard>=2.4.1->ultralytics==8.0.38) (3.20.3)\r\n",
      "Requirement already satisfied: setuptools>=41.0.0 in /opt/conda/lib/python3.10/site-packages (from tensorboard>=2.4.1->ultralytics==8.0.38) (69.0.3)\r\n",
      "Requirement already satisfied: six>1.9 in /opt/conda/lib/python3.10/site-packages (from tensorboard>=2.4.1->ultralytics==8.0.38) (1.16.0)\r\n",
      "Requirement already satisfied: tensorboard-data-server<0.8.0,>=0.7.0 in /opt/conda/lib/python3.10/site-packages (from tensorboard>=2.4.1->ultralytics==8.0.38) (0.7.2)\r\n",
      "Requirement already satisfied: werkzeug>=1.0.1 in /opt/conda/lib/python3.10/site-packages (from tensorboard>=2.4.1->ultralytics==8.0.38) (3.0.3)\r\n",
      "Requirement already satisfied: filelock in /opt/conda/lib/python3.10/site-packages (from torch>=1.7.0->ultralytics==8.0.38) (3.13.1)\r\n",
      "Requirement already satisfied: typing-extensions in /opt/conda/lib/python3.10/site-packages (from torch>=1.7.0->ultralytics==8.0.38) (4.9.0)\r\n",
      "Requirement already satisfied: sympy in /opt/conda/lib/python3.10/site-packages (from torch>=1.7.0->ultralytics==8.0.38) (1.13.0)\r\n",
      "Requirement already satisfied: networkx in /opt/conda/lib/python3.10/site-packages (from torch>=1.7.0->ultralytics==8.0.38) (3.2.1)\r\n",
      "Requirement already satisfied: jinja2 in /opt/conda/lib/python3.10/site-packages (from torch>=1.7.0->ultralytics==8.0.38) (3.1.2)\r\n",
      "Requirement already satisfied: fsspec in /opt/conda/lib/python3.10/site-packages (from torch>=1.7.0->ultralytics==8.0.38) (2024.5.0)\r\n",
      "Requirement already satisfied: cachetools<6.0,>=2.0.0 in /opt/conda/lib/python3.10/site-packages (from google-auth<3,>=1.6.3->tensorboard>=2.4.1->ultralytics==8.0.38) (4.2.4)\r\n",
      "Requirement already satisfied: pyasn1-modules>=0.2.1 in /opt/conda/lib/python3.10/site-packages (from google-auth<3,>=1.6.3->tensorboard>=2.4.1->ultralytics==8.0.38) (0.3.0)\r\n",
      "Requirement already satisfied: rsa<5,>=3.1.4 in /opt/conda/lib/python3.10/site-packages (from google-auth<3,>=1.6.3->tensorboard>=2.4.1->ultralytics==8.0.38) (4.9)\r\n",
      "Requirement already satisfied: requests-oauthlib>=0.7.0 in /opt/conda/lib/python3.10/site-packages (from google-auth-oauthlib<2,>=0.5->tensorboard>=2.4.1->ultralytics==8.0.38) (1.3.1)\r\n",
      "Requirement already satisfied: MarkupSafe>=2.1.1 in /opt/conda/lib/python3.10/site-packages (from werkzeug>=1.0.1->tensorboard>=2.4.1->ultralytics==8.0.38) (2.1.3)\r\n",
      "Requirement already satisfied: mpmath<1.4,>=1.1.0 in /opt/conda/lib/python3.10/site-packages (from sympy->torch>=1.7.0->ultralytics==8.0.38) (1.3.0)\r\n",
      "Requirement already satisfied: pyasn1<0.6.0,>=0.4.6 in /opt/conda/lib/python3.10/site-packages (from pyasn1-modules>=0.2.1->google-auth<3,>=1.6.3->tensorboard>=2.4.1->ultralytics==8.0.38) (0.5.1)\r\n",
      "Requirement already satisfied: oauthlib>=3.0.0 in /opt/conda/lib/python3.10/site-packages (from requests-oauthlib>=0.7.0->google-auth-oauthlib<2,>=0.5->tensorboard>=2.4.1->ultralytics==8.0.38) (3.2.2)\r\n",
      "Downloading ultralytics-8.0.38-py3-none-any.whl (278 kB)\r\n",
      "\u001b[2K   \u001b[90m━━━━━━━━━━━━━━━━━━━━━━━━━━━━━━━━━━━━━━━━\u001b[0m \u001b[32m278.1/278.1 kB\u001b[0m \u001b[31m8.7 MB/s\u001b[0m eta \u001b[36m0:00:00\u001b[0m\r\n",
      "\u001b[?25hDownloading thop-0.1.1.post2209072238-py3-none-any.whl (15 kB)\r\n",
      "Installing collected packages: thop, ultralytics\r\n",
      "Successfully installed thop-0.1.1.post2209072238 ultralytics-8.0.38\r\n",
      "Note: you may need to restart the kernel to use updated packages.\n"
     ]
    }
   ],
   "source": [
    "%pip install ultralytics==8.0.38"
   ]
  },
  {
   "cell_type": "code",
   "execution_count": 3,
   "id": "a847f68e",
   "metadata": {
    "execution": {
     "iopub.execute_input": "2024-12-29T17:42:03.893905Z",
     "iopub.status.busy": "2024-12-29T17:42:03.893605Z",
     "iopub.status.idle": "2024-12-29T17:42:03.899179Z",
     "shell.execute_reply": "2024-12-29T17:42:03.898473Z"
    },
    "papermill": {
     "duration": 0.010929,
     "end_time": "2024-12-29T17:42:03.900811",
     "exception": false,
     "start_time": "2024-12-29T17:42:03.889882",
     "status": "completed"
    },
    "tags": []
   },
   "outputs": [],
   "source": [
    "def update(file_path: str, root: str):\n",
    "    with open(file_path, \"r\") as file:\n",
    "        paths = file.readlines()\n",
    "\n",
    "    updated_paths = list[str]()\n",
    "    for path in paths:\n",
    "        path = path.strip()\n",
    "        updated_paths.append(root + path + \"\\n\")\n",
    "\n",
    "    new_file_path = \"/kaggle/working/updated_\" + os.path.basename(file_path)\n",
    "#     new_file_path = os.path.join(os.path.dirname(file_path).replace(\"input\", \"working\"), new_file_name)\n",
    "    \n",
    "    with open(new_file_path, \"w\") as file:\n",
    "        file.writelines(updated_paths)\n",
    "\n",
    "    print(\"Updated file created successfully: \" + new_file_path)"
   ]
  },
  {
   "cell_type": "code",
   "execution_count": 4,
   "id": "11890128",
   "metadata": {
    "execution": {
     "iopub.execute_input": "2024-12-29T17:42:03.907051Z",
     "iopub.status.busy": "2024-12-29T17:42:03.906463Z",
     "iopub.status.idle": "2024-12-29T17:42:03.933461Z",
     "shell.execute_reply": "2024-12-29T17:42:03.932453Z"
    },
    "papermill": {
     "duration": 0.031958,
     "end_time": "2024-12-29T17:42:03.935239",
     "exception": false,
     "start_time": "2024-12-29T17:42:03.903281",
     "status": "completed"
    },
    "tags": []
   },
   "outputs": [
    {
     "name": "stdout",
     "output_type": "stream",
     "text": [
      "Updated file created successfully: /kaggle/working/updated_train_files.txt\n",
      "Updated file created successfully: /kaggle/working/updated_val_files.txt\n"
     ]
    }
   ],
   "source": [
    "root = \"/kaggle/input/sh17-dataset-for-ppe-detection/images/\"\n",
    "update(file_path=r\"/kaggle/input/sh17-dataset-for-ppe-detection/train_files.txt\", root=root)\n",
    "update(file_path=r\"/kaggle/input/sh17-dataset-for-ppe-detection/val_files.txt\", root=root)"
   ]
  },
  {
   "cell_type": "code",
   "execution_count": 5,
   "id": "e17e29db",
   "metadata": {
    "execution": {
     "iopub.execute_input": "2024-12-29T17:42:03.941447Z",
     "iopub.status.busy": "2024-12-29T17:42:03.941211Z",
     "iopub.status.idle": "2024-12-29T17:42:05.104931Z",
     "shell.execute_reply": "2024-12-29T17:42:05.104055Z"
    },
    "papermill": {
     "duration": 1.169113,
     "end_time": "2024-12-29T17:42:05.107039",
     "exception": false,
     "start_time": "2024-12-29T17:42:03.937926",
     "status": "completed"
    },
    "tags": []
   },
   "outputs": [
    {
     "name": "stdout",
     "output_type": "stream",
     "text": [
      "  % Total    % Received % Xferd  Average Speed   Time    Time     Time  Current\r\n",
      "                                 Dload  Upload   Total   Spent    Left  Speed\r\n",
      "100   477  100   477    0     0   3080      0 --:--:-- --:--:-- --:--:--  3097\r\n"
     ]
    }
   ],
   "source": [
    "!curl https://raw.githubusercontent.com/ahmadmughees/SH17dataset/kaggle/sh17_kaggle.yaml -o sh17_kaggle.yaml"
   ]
  },
  {
   "cell_type": "code",
   "execution_count": 6,
   "id": "70114256",
   "metadata": {
    "execution": {
     "iopub.execute_input": "2024-12-29T17:42:05.114065Z",
     "iopub.status.busy": "2024-12-29T17:42:05.113773Z",
     "iopub.status.idle": "2024-12-29T17:42:11.522800Z",
     "shell.execute_reply": "2024-12-29T17:42:11.521921Z"
    },
    "papermill": {
     "duration": 6.414772,
     "end_time": "2024-12-29T17:42:11.524775",
     "exception": false,
     "start_time": "2024-12-29T17:42:05.110003",
     "status": "completed"
    },
    "tags": []
   },
   "outputs": [
    {
     "name": "stderr",
     "output_type": "stream",
     "text": [
      "PRO TIP 💡 Replace 'model=yolov5n.pt' with new 'model=yolov5nu.pt'.\n",
      "YOLOv5 'u' models are trained with https://github.com/ultralytics/ultralytics and feature improved performance vs standard YOLOv5 models trained with https://github.com/ultralytics/yolov5.\n",
      "\n",
      "Downloading https://github.com/ultralytics/assets/releases/download/v0.0.0/yolov5nu.pt to yolov5nu.pt...\n",
      "100%|██████████| 5.27M/5.27M [00:00<00:00, 88.7MB/s]\n"
     ]
    }
   ],
   "source": [
    "from ultralytics import YOLO\n",
    "model = YOLO(r\"yolov5n.pt\")"
   ]
  },
  {
   "cell_type": "code",
   "execution_count": 7,
   "id": "c69296cb",
   "metadata": {
    "execution": {
     "iopub.execute_input": "2024-12-29T17:42:11.532644Z",
     "iopub.status.busy": "2024-12-29T17:42:11.532020Z",
     "iopub.status.idle": "2024-12-30T02:44:47.942199Z",
     "shell.execute_reply": "2024-12-30T02:44:47.941172Z"
    },
    "papermill": {
     "duration": 32556.41621,
     "end_time": "2024-12-30T02:44:47.944267",
     "exception": false,
     "start_time": "2024-12-29T17:42:11.528057",
     "status": "completed"
    },
    "tags": []
   },
   "outputs": [
    {
     "name": "stderr",
     "output_type": "stream",
     "text": [
      "Ultralytics YOLOv8.0.38 🚀 Python-3.10.13 torch-2.1.2 CUDA:0 (Tesla P100-PCIE-16GB, 16269MiB)\n",
      "\u001b[34m\u001b[1myolo/engine/trainer: \u001b[0mtask=detect, mode=train, model=yolov5n.yaml, data=/kaggle/working/sh17_kaggle.yaml, epochs=20, patience=50, batch=16, imgsz=640, save=True, save_period=-1, cache=False, device=None, workers=8, project=None, name=None, exist_ok=False, pretrained=False, optimizer=SGD, verbose=True, seed=0, deterministic=True, single_cls=False, image_weights=False, rect=False, cos_lr=False, close_mosaic=10, resume=False, min_memory=False, overlap_mask=True, mask_ratio=4, dropout=0.0, val=True, split=val, save_json=False, save_hybrid=False, conf=None, iou=0.7, max_det=300, half=False, dnn=False, plots=True, source=None, show=False, save_txt=False, save_conf=False, save_crop=False, hide_labels=False, hide_conf=False, vid_stride=1, line_thickness=3, visualize=False, augment=False, agnostic_nms=False, classes=None, retina_masks=False, boxes=True, format=torchscript, keras=False, optimize=False, int8=False, dynamic=False, simplify=False, opset=None, workspace=4, nms=False, lr0=0.01, lrf=0.01, momentum=0.937, weight_decay=0.001, warmup_epochs=3.0, warmup_momentum=0.8, warmup_bias_lr=0.1, box=7.5, cls=0.5, dfl=1.5, fl_gamma=0.0, label_smoothing=0.0, nbs=64, hsv_h=0.015, hsv_s=0.7, hsv_v=0.4, degrees=0.0, translate=0.1, scale=0.5, shear=0.0, perspective=0.0, flipud=0.0, fliplr=0.5, mosaic=1.0, mixup=0.0, copy_paste=0.0, cfg=None, v5loader=False, save_dir=runs/detect/train\n",
      "Downloading https://ultralytics.com/assets/Arial.ttf to /root/.config/Ultralytics/Arial.ttf...\n",
      "100%|██████████| 755k/755k [00:00<00:00, 23.5MB/s]\n",
      "2024-12-29 17:42:15.669559: E external/local_xla/xla/stream_executor/cuda/cuda_dnn.cc:9261] Unable to register cuDNN factory: Attempting to register factory for plugin cuDNN when one has already been registered\n",
      "2024-12-29 17:42:15.669723: E external/local_xla/xla/stream_executor/cuda/cuda_fft.cc:607] Unable to register cuFFT factory: Attempting to register factory for plugin cuFFT when one has already been registered\n",
      "2024-12-29 17:42:15.802977: E external/local_xla/xla/stream_executor/cuda/cuda_blas.cc:1515] Unable to register cuBLAS factory: Attempting to register factory for plugin cuBLAS when one has already been registered\n",
      "Overriding model.yaml nc=80 with nc=17\n",
      "\n",
      "                   from  n    params  module                                       arguments                     \n",
      "  0                  -1  1      1760  ultralytics.nn.modules.Conv                  [3, 16, 6, 2, 2]              \n",
      "  1                  -1  1      4672  ultralytics.nn.modules.Conv                  [16, 32, 3, 2]                \n",
      "  2                  -1  1      4800  ultralytics.nn.modules.C3                    [32, 32, 1]                   \n",
      "  3                  -1  1     18560  ultralytics.nn.modules.Conv                  [32, 64, 3, 2]                \n",
      "  4                  -1  2     29184  ultralytics.nn.modules.C3                    [64, 64, 2]                   \n",
      "  5                  -1  1     73984  ultralytics.nn.modules.Conv                  [64, 128, 3, 2]               \n",
      "  6                  -1  3    156928  ultralytics.nn.modules.C3                    [128, 128, 3]                 \n",
      "  7                  -1  1    295424  ultralytics.nn.modules.Conv                  [128, 256, 3, 2]              \n",
      "  8                  -1  1    296448  ultralytics.nn.modules.C3                    [256, 256, 1]                 \n",
      "  9                  -1  1    164608  ultralytics.nn.modules.SPPF                  [256, 256, 5]                 \n",
      " 10                  -1  1     33024  ultralytics.nn.modules.Conv                  [256, 128, 1, 1]              \n",
      " 11                  -1  1         0  torch.nn.modules.upsampling.Upsample         [None, 2, 'nearest']          \n",
      " 12             [-1, 6]  1         0  ultralytics.nn.modules.Concat                [1]                           \n",
      " 13                  -1  1     90880  ultralytics.nn.modules.C3                    [256, 128, 1, False]          \n",
      " 14                  -1  1      8320  ultralytics.nn.modules.Conv                  [128, 64, 1, 1]               \n",
      " 15                  -1  1         0  torch.nn.modules.upsampling.Upsample         [None, 2, 'nearest']          \n",
      " 16             [-1, 4]  1         0  ultralytics.nn.modules.Concat                [1]                           \n",
      " 17                  -1  1     22912  ultralytics.nn.modules.C3                    [128, 64, 1, False]           \n",
      " 18                  -1  1     36992  ultralytics.nn.modules.Conv                  [64, 64, 3, 2]                \n",
      " 19            [-1, 14]  1         0  ultralytics.nn.modules.Concat                [1]                           \n",
      " 20                  -1  1     74496  ultralytics.nn.modules.C3                    [128, 128, 1, False]          \n",
      " 21                  -1  1    147712  ultralytics.nn.modules.Conv                  [128, 128, 3, 2]              \n",
      " 22            [-1, 10]  1         0  ultralytics.nn.modules.Concat                [1]                           \n",
      " 23                  -1  1    296448  ultralytics.nn.modules.C3                    [256, 256, 1, False]          \n",
      " 24        [17, 20, 23]  1    754627  ultralytics.nn.modules.Detect                [17, [64, 128, 256]]          \n",
      "YOLOv5n summary: 262 layers, 2511779 parameters, 2511763 gradients, 7.2 GFLOPs\n",
      "\n",
      "Transferred 391/427 items from pretrained weights\n",
      "\u001b[34m\u001b[1moptimizer:\u001b[0m SGD(lr=0.01) with parameter groups 69 weight(decay=0.0), 76 weight(decay=0.001), 75 bias\n",
      "\u001b[34m\u001b[1mtrain: \u001b[0mScanning /kaggle/input/sh17-dataset-for-ppe-detection/labels... 6479 images, 0 backgrounds, 0 corrupt: 100%|██████████| 6479/6479 [00:48<00:00, 133.48it/s]\n",
      "\u001b[34m\u001b[1mtrain: \u001b[0mWARNING ⚠️ Cache directory /kaggle/input/sh17-dataset-for-ppe-detection is not writeable\n",
      "\u001b[34m\u001b[1malbumentations: \u001b[0mBlur(p=0.01, blur_limit=(3, 7)), MedianBlur(p=0.01, blur_limit=(3, 7)), ToGray(p=0.01), CLAHE(p=0.01, clip_limit=(1, 4.0), tile_grid_size=(8, 8))\n",
      "\u001b[34m\u001b[1mval: \u001b[0mScanning /kaggle/input/sh17-dataset-for-ppe-detection/labels... 1620 images, 0 backgrounds, 0 corrupt: 100%|██████████| 1620/1620 [00:12<00:00, 125.73it/s]\n",
      "\u001b[34m\u001b[1mval: \u001b[0mWARNING ⚠️ Cache directory /kaggle/input/sh17-dataset-for-ppe-detection is not writeable\n",
      "Image sizes 640 train, 640 val\n",
      "Using 4 dataloader workers\n",
      "Logging results to \u001b[1mruns/detect/train\u001b[0m\n",
      "Starting training for 20 epochs...\n",
      "/opt/conda/lib/python3.10/multiprocessing/popen_fork.py:66: RuntimeWarning: os.fork() was called. os.fork() is incompatible with multithreaded code, and JAX is multithreaded, so this will likely lead to a deadlock.\n",
      "  self.pid = os.fork()\n",
      "\n",
      "      Epoch    GPU_mem   box_loss   cls_loss   dfl_loss  Instances       Size\n",
      "       1/20      10.7G      1.326      2.312      1.363        237        640: 100%|██████████| 405/405 [34:16<00:00,  5.08s/it]\n",
      "                 Class     Images  Instances      Box(P          R      mAP50  mAP50-95): 100%|██████████| 51/51 [03:42<00:00,  4.36s/it]\n",
      "                   all       1620      15358       0.75      0.214      0.233       0.14\n",
      "\n",
      "      Epoch    GPU_mem   box_loss   cls_loss   dfl_loss  Instances       Size\n",
      "       2/20      12.9G      1.296      1.535      1.328        250        640: 100%|██████████| 405/405 [34:10<00:00,  5.06s/it]\n",
      "                 Class     Images  Instances      Box(P          R      mAP50  mAP50-95): 100%|██████████| 51/51 [03:43<00:00,  4.37s/it]\n",
      "                   all       1620      15358      0.734      0.246      0.274      0.158\n",
      "\n",
      "      Epoch    GPU_mem   box_loss   cls_loss   dfl_loss  Instances       Size\n",
      "       3/20      12.9G      1.319      1.456      1.337        210        640: 100%|██████████| 405/405 [34:29<00:00,  5.11s/it]\n",
      "                 Class     Images  Instances      Box(P          R      mAP50  mAP50-95): 100%|██████████| 51/51 [03:38<00:00,  4.29s/it]\n",
      "                   all       1620      15358      0.698      0.259      0.278      0.154\n",
      "\n",
      "      Epoch    GPU_mem   box_loss   cls_loss   dfl_loss  Instances       Size\n",
      "       4/20      12.9G      1.343      1.425      1.346        231        640: 100%|██████████| 405/405 [38:01<00:00,  5.63s/it]\n",
      "                 Class     Images  Instances      Box(P          R      mAP50  mAP50-95): 100%|██████████| 51/51 [03:33<00:00,  4.19s/it]\n",
      "                   all       1620      15358       0.67      0.274       0.29      0.163\n",
      "\n",
      "      Epoch    GPU_mem   box_loss   cls_loss   dfl_loss  Instances       Size\n",
      "       5/20      12.9G      1.327      1.372      1.335        186        640: 100%|██████████| 405/405 [39:11<00:00,  5.81s/it]\n",
      "                 Class     Images  Instances      Box(P          R      mAP50  mAP50-95): 100%|██████████| 51/51 [03:37<00:00,  4.26s/it]\n",
      "                   all       1620      15358      0.492      0.302       0.31       0.18\n",
      "\n",
      "      Epoch    GPU_mem   box_loss   cls_loss   dfl_loss  Instances       Size\n",
      "       6/20      12.9G      1.302      1.306       1.32        203        640: 100%|██████████| 405/405 [38:30<00:00,  5.71s/it]\n",
      "                 Class     Images  Instances      Box(P          R      mAP50  mAP50-95): 100%|██████████| 51/51 [03:38<00:00,  4.29s/it]\n",
      "                   all       1620      15358      0.579      0.314      0.335      0.197\n",
      "\n",
      "      Epoch    GPU_mem   box_loss   cls_loss   dfl_loss  Instances       Size\n",
      "       7/20      12.9G      1.281      1.257      1.307        278        640: 100%|██████████| 405/405 [33:41<00:00,  4.99s/it]\n",
      "                 Class     Images  Instances      Box(P          R      mAP50  mAP50-95): 100%|██████████| 51/51 [03:40<00:00,  4.32s/it]\n",
      "                   all       1620      15358      0.546      0.318      0.345      0.199\n",
      "\n",
      "      Epoch    GPU_mem   box_loss   cls_loss   dfl_loss  Instances       Size\n",
      "       8/20      12.9G      1.272      1.216        1.3        219        640: 100%|██████████| 405/405 [38:37<00:00,  5.72s/it]\n",
      "                 Class     Images  Instances      Box(P          R      mAP50  mAP50-95): 100%|██████████| 51/51 [03:41<00:00,  4.33s/it]\n",
      "                   all       1620      15358      0.589      0.327      0.349      0.205\n",
      "\n",
      "      Epoch    GPU_mem   box_loss   cls_loss   dfl_loss  Instances       Size\n",
      "       9/20      12.9G      1.246      1.175      1.287        228        640: 100%|██████████| 405/405 [33:41<00:00,  4.99s/it]\n",
      "                 Class     Images  Instances      Box(P          R      mAP50  mAP50-95): 100%|██████████| 51/51 [03:43<00:00,  4.38s/it]\n",
      "                   all       1620      15358      0.466      0.365      0.367      0.216\n",
      "\n",
      "      Epoch    GPU_mem   box_loss   cls_loss   dfl_loss  Instances       Size\n",
      "      10/20      12.9G      1.231       1.14      1.273        192        640: 100%|██████████| 405/405 [38:55<00:00,  5.77s/it]\n",
      "                 Class     Images  Instances      Box(P          R      mAP50  mAP50-95): 100%|██████████| 51/51 [03:40<00:00,  4.33s/it]\n",
      "                   all       1620      15358      0.656       0.34       0.37       0.22\n",
      "Closing dataloader mosaic\n",
      "\u001b[34m\u001b[1malbumentations: \u001b[0mBlur(p=0.01, blur_limit=(3, 7)), MedianBlur(p=0.01, blur_limit=(3, 7)), ToGray(p=0.01), CLAHE(p=0.01, clip_limit=(1, 4.0), tile_grid_size=(8, 8))\n",
      "\n",
      "      Epoch    GPU_mem   box_loss   cls_loss   dfl_loss  Instances       Size\n",
      "      11/20      12.9G      1.257       1.15      1.302        123        640: 100%|██████████| 405/405 [09:47<00:00,  1.45s/it]\n",
      "                 Class     Images  Instances      Box(P          R      mAP50  mAP50-95): 100%|██████████| 51/51 [03:43<00:00,  4.39s/it]\n",
      "                   all       1620      15358      0.717      0.342      0.381      0.223\n",
      "\n",
      "      Epoch    GPU_mem   box_loss   cls_loss   dfl_loss  Instances       Size\n",
      "      12/20      12.9G      1.237      1.114       1.29        148        640: 100%|██████████| 405/405 [10:39<00:00,  1.58s/it]\n",
      "                 Class     Images  Instances      Box(P          R      mAP50  mAP50-95): 100%|██████████| 51/51 [03:42<00:00,  4.37s/it]\n",
      "                   all       1620      15358      0.535      0.372       0.39       0.23\n",
      "\n",
      "      Epoch    GPU_mem   box_loss   cls_loss   dfl_loss  Instances       Size\n",
      "      13/20      12.9G      1.222      1.074      1.277        149        640: 100%|██████████| 405/405 [10:02<00:00,  1.49s/it]\n",
      "                 Class     Images  Instances      Box(P          R      mAP50  mAP50-95): 100%|██████████| 51/51 [03:39<00:00,  4.30s/it]\n",
      "                   all       1620      15358      0.455      0.388      0.381      0.226\n",
      "\n",
      "      Epoch    GPU_mem   box_loss   cls_loss   dfl_loss  Instances       Size\n",
      "      14/20      12.9G      1.201      1.041      1.261        123        640: 100%|██████████| 405/405 [09:07<00:00,  1.35s/it]\n",
      "                 Class     Images  Instances      Box(P          R      mAP50  mAP50-95): 100%|██████████| 51/51 [03:40<00:00,  4.31s/it]\n",
      "                   all       1620      15358      0.571       0.39      0.408      0.243\n",
      "\n",
      "      Epoch    GPU_mem   box_loss   cls_loss   dfl_loss  Instances       Size\n",
      "      15/20      12.9G      1.185      1.011      1.253        106        640: 100%|██████████| 405/405 [09:23<00:00,  1.39s/it]\n",
      "                 Class     Images  Instances      Box(P          R      mAP50  mAP50-95): 100%|██████████| 51/51 [03:42<00:00,  4.37s/it]\n",
      "                   all       1620      15358      0.613      0.399      0.418      0.251\n",
      "\n",
      "      Epoch    GPU_mem   box_loss   cls_loss   dfl_loss  Instances       Size\n",
      "      16/20      12.9G      1.172      0.986       1.24        107        640: 100%|██████████| 405/405 [10:30<00:00,  1.56s/it]\n",
      "                 Class     Images  Instances      Box(P          R      mAP50  mAP50-95): 100%|██████████| 51/51 [03:44<00:00,  4.40s/it]\n",
      "                   all       1620      15358      0.597      0.416      0.423      0.256\n",
      "\n",
      "      Epoch    GPU_mem   box_loss   cls_loss   dfl_loss  Instances       Size\n",
      "      17/20      12.9G      1.153     0.9562      1.227        143        640: 100%|██████████| 405/405 [10:46<00:00,  1.60s/it]\n",
      "                 Class     Images  Instances      Box(P          R      mAP50  mAP50-95): 100%|██████████| 51/51 [03:42<00:00,  4.35s/it]\n",
      "                   all       1620      15358      0.545      0.413       0.43      0.258\n",
      "\n",
      "      Epoch    GPU_mem   box_loss   cls_loss   dfl_loss  Instances       Size\n",
      "      18/20      12.9G      1.136     0.9293      1.216        133        640: 100%|██████████| 405/405 [09:26<00:00,  1.40s/it]\n",
      "                 Class     Images  Instances      Box(P          R      mAP50  mAP50-95): 100%|██████████| 51/51 [03:43<00:00,  4.39s/it]\n",
      "                   all       1620      15358      0.594       0.41       0.43       0.26\n",
      "\n",
      "      Epoch    GPU_mem   box_loss   cls_loss   dfl_loss  Instances       Size\n",
      "      19/20      12.9G      1.117     0.9107      1.202        181        640: 100%|██████████| 405/405 [09:23<00:00,  1.39s/it]\n",
      "                 Class     Images  Instances      Box(P          R      mAP50  mAP50-95): 100%|██████████| 51/51 [03:45<00:00,  4.43s/it]\n",
      "                   all       1620      15358      0.514      0.428      0.442      0.268\n",
      "\n",
      "      Epoch    GPU_mem   box_loss   cls_loss   dfl_loss  Instances       Size\n",
      "      20/20      12.9G      1.102     0.8864      1.196         95        640: 100%|██████████| 405/405 [10:23<00:00,  1.54s/it]\n",
      "                 Class     Images  Instances      Box(P          R      mAP50  mAP50-95): 100%|██████████| 51/51 [03:46<00:00,  4.45s/it]\n",
      "                   all       1620      15358      0.512      0.434      0.454      0.274\n",
      "\n",
      "20 epochs completed in 8.957 hours.\n",
      "Optimizer stripped from runs/detect/train/weights/last.pt, 5.2MB\n",
      "Optimizer stripped from runs/detect/train/weights/best.pt, 5.2MB\n",
      "\n",
      "Validating runs/detect/train/weights/best.pt...\n",
      "Ultralytics YOLOv8.0.38 🚀 Python-3.10.13 torch-2.1.2 CUDA:0 (Tesla P100-PCIE-16GB, 16269MiB)\n",
      "YOLOv5n summary (fused): 193 layers, 2506259 parameters, 0 gradients, 7.1 GFLOPs\n",
      "                 Class     Images  Instances      Box(P          R      mAP50  mAP50-95):   0%|          | 0/51 [00:00<?, ?it/s]/opt/conda/lib/python3.10/multiprocessing/popen_fork.py:66: RuntimeWarning: os.fork() was called. os.fork() is incompatible with multithreaded code, and JAX is multithreaded, so this will likely lead to a deadlock.\n",
      "  self.pid = os.fork()\n",
      "                 Class     Images  Instances      Box(P          R      mAP50  mAP50-95): 100%|██████████| 51/51 [03:41<00:00,  1.74s/it]/opt/conda/lib/python3.10/multiprocessing/popen_fork.py:66: RuntimeWarning: os.fork() was called. os.fork() is incompatible with multithreaded code, and JAX is multithreaded, so this will likely lead to a deadlock.\n",
      "  self.pid = os.fork()\n",
      "                 Class     Images  Instances      Box(P          R      mAP50  mAP50-95): 100%|██████████| 51/51 [03:41<00:00,  4.34s/it]\n",
      "                   all       1620      15358      0.511      0.434      0.455      0.274\n",
      "                person       1620       2734      0.714      0.871      0.876      0.662\n",
      "                   ear       1620       1612      0.764      0.661      0.685      0.387\n",
      "              ear-mufs       1620         49          0          0     0.0084    0.00399\n",
      "                  face       1620       1855       0.84      0.856      0.884      0.618\n",
      "            face-guard       1620         24      0.414      0.167      0.237     0.0903\n",
      "             face-mask       1620        151      0.586      0.596      0.576       0.28\n",
      "                  foot       1620        149     0.0994    0.00747     0.0667      0.026\n",
      "                  tool       1620        923      0.335      0.206      0.178     0.0751\n",
      "               glasses       1620        398      0.559      0.455       0.44      0.197\n",
      "                gloves       1620        529      0.432      0.374      0.358      0.206\n",
      "                helmet       1620        154      0.525      0.487      0.506      0.323\n",
      "                 hands       1620       3212      0.633      0.787      0.784      0.493\n",
      "                  head       1620       2427      0.826      0.871      0.886      0.654\n",
      "          medical-suit       1620         43      0.655      0.233      0.281      0.137\n",
      "                 shoes       1620        956      0.508      0.457      0.453      0.237\n",
      "           safety-suit       1620         45      0.369     0.0444      0.175     0.0873\n",
      "           safety-vest       1620         97      0.429      0.299      0.336      0.184\n",
      "Speed: 0.2ms pre-process, 1.7ms inference, 0.0ms loss, 3.2ms post-process per image\n",
      "Results saved to \u001b[1mruns/detect/train\u001b[0m\n"
     ]
    }
   ],
   "source": [
    "model.train(data=\"/kaggle/working/sh17_kaggle.yaml\", batch = 16, epochs=20, imgsz = 640)"
   ]
  }
 ],
 "metadata": {
  "kaggle": {
   "accelerator": "gpu",
   "dataSources": [
    {
     "datasetId": 5329058,
     "sourceId": 8853182,
     "sourceType": "datasetVersion"
    }
   ],
   "dockerImageVersionId": 30747,
   "isGpuEnabled": true,
   "isInternetEnabled": true,
   "language": "python",
   "sourceType": "notebook"
  },
  "kernelspec": {
   "display_name": "Python 3",
   "language": "python",
   "name": "python3"
  },
  "language_info": {
   "codemirror_mode": {
    "name": "ipython",
    "version": 3
   },
   "file_extension": ".py",
   "mimetype": "text/x-python",
   "name": "python",
   "nbconvert_exporter": "python",
   "pygments_lexer": "ipython3",
   "version": "3.10.13"
  },
  "papermill": {
   "default_parameters": {},
   "duration": 32582.490099,
   "end_time": "2024-12-30T02:44:52.492982",
   "environment_variables": {},
   "exception": null,
   "input_path": "__notebook__.ipynb",
   "output_path": "__notebook__.ipynb",
   "parameters": {},
   "start_time": "2024-12-29T17:41:50.002883",
   "version": "2.5.0"
  }
 },
 "nbformat": 4,
 "nbformat_minor": 5
}
